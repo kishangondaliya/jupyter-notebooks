{
 "cells": [
  {
   "cell_type": "markdown",
   "metadata": {
    "colab_type": "text",
    "id": "RvwFrkzSPbw7"
   },
   "source": [
    "<img src=\"https://raw.githubusercontent.com/kishangondaliya/jupyter-notebooks/master/data/pandas.png\" width=\"300\" vspace=\"30px\" align=\"right\">\n",
    "\n",
    "<div align=\"left\">\n",
    "<h1>Pandas</h1>\n",
    "\n",
    "In this notebook, we'll learn the basics of data analysis with the Python Pandas library.\n",
    "</div>"
   ]
  },
  {
   "cell_type": "markdown",
   "metadata": {
    "colab_type": "text",
    "id": "0aqN-ffaP4t1"
   },
   "source": [
    "<table align=\"center\">\n",
    "  <td>\n",
    "<img src=\"https://raw.githubusercontent.com/kishangondaliya/jupyter-notebooks/master/data/colab_logo.png\" width=\"25\"><a target=\"_blank\" href=\"https://colab.research.google.com/github/kishangondaliya/jupyter-notebooks/blob/master/learn_pandas.ipynb\"> Run in Google Colab</a>\n",
    "  </td>\n",
    "  <td>\n",
    "<img src=\"https://raw.githubusercontent.com/kishangondaliya/jupyter-notebooks/master/data/github_logo.png\" width=\"22\"><a target=\"_blank\" href=\"https://github.com/kishangondaliya/jupyter-notebooks/blob/master/learn_pandas.ipynb\"> View code on GitHub</a>\n",
    "  </td>\n",
    "</table>"
   ]
  },
  {
   "cell_type": "markdown",
   "metadata": {
    "colab_type": "text",
    "id": "ta6CPC-QT-K_"
   },
   "source": [
    "# Set up"
   ]
  },
  {
   "cell_type": "code",
   "execution_count": null,
   "metadata": {
    "colab": {},
    "colab_type": "code",
    "id": "6nwDfMoNT-Qa"
   },
   "outputs": [],
   "source": [
    "import numpy as np\n",
    "import pandas as pd"
   ]
  },
  {
   "cell_type": "code",
   "execution_count": null,
   "metadata": {
    "colab": {},
    "colab_type": "code",
    "id": "VfKDIcxXT-TJ"
   },
   "outputs": [],
   "source": [
    "# Set seed for reproducability\n",
    "np.random.seed(seed=1234)"
   ]
  },
  {
   "cell_type": "markdown",
   "metadata": {
    "colab_type": "text",
    "id": "VoMq0eFRvugb"
   },
   "source": [
    "# Download data"
   ]
  },
  {
   "cell_type": "markdown",
   "metadata": {
    "colab_type": "text",
    "id": "qWro5T5qTJJL"
   },
   "source": [
    "We're goign to work with the [Titanic dataset](https://www.kaggle.com/c/titanic/data) which has data on the people who embarked the RMS Titanic in 1912 and whether they survived the expedition or not. It's a very rich dataset which makes it very apt for exploratory data analysis with Pandas."
   ]
  },
  {
   "cell_type": "code",
   "execution_count": null,
   "metadata": {
    "colab": {},
    "colab_type": "code",
    "id": "cdg5wEFcV6qA"
   },
   "outputs": [],
   "source": [
    "import urllib"
   ]
  },
  {
   "cell_type": "code",
   "execution_count": null,
   "metadata": {
    "colab": {},
    "colab_type": "code",
    "id": "6FuyDUTFVY7J"
   },
   "outputs": [],
   "source": [
    "# Upload data from GitHub to notebook's local drive\n",
    "url = 'https://raw.githubusercontent.com/kishangondaliya/jupyter-notebooks/master/data/titanic.csv'\n",
    "response = urllib.request.urlopen(url)\n",
    "html = response.read()\n",
    "with open('titanic.csv', 'wb') as f:\n",
    "    f.write(html)"
   ]
  },
  {
   "cell_type": "code",
   "execution_count": null,
   "metadata": {
    "colab": {
     "base_uri": "https://localhost:8080/",
     "height": 69
    },
    "colab_type": "code",
    "id": "TK3wsHCFhldU",
    "outputId": "63c87c5e-bdbc-4d6c-8b64-272d5058e5b6"
   },
   "outputs": [],
   "source": [
    "# Checking if the data was uploaded\n",
    "!ls -l "
   ]
  },
  {
   "cell_type": "markdown",
   "metadata": {
    "colab_type": "text",
    "id": "TL4rwLUSW9hV"
   },
   "source": [
    "# Load data"
   ]
  },
  {
   "cell_type": "markdown",
   "metadata": {
    "colab_type": "text",
    "id": "4EOXMnGHiLxM"
   },
   "source": [
    "Let's load the data from the CSV file into a Pandas dataframe. The `header=0` signfies that the first row (0th index) is a header row which contains the names of each column in our dataset."
   ]
  },
  {
   "cell_type": "code",
   "execution_count": null,
   "metadata": {
    "colab": {},
    "colab_type": "code",
    "id": "ywaEF_0aQ023"
   },
   "outputs": [],
   "source": [
    "# Read from CSV to Pandas DataFrame\n",
    "df = pd.read_csv('titanic.csv', header=0)"
   ]
  },
  {
   "cell_type": "code",
   "execution_count": null,
   "metadata": {
    "colab": {
     "base_uri": "https://localhost:8080/",
     "height": 293
    },
    "colab_type": "code",
    "id": "J79FUzZWQ-kx",
    "outputId": "3daaaad6-d6ab-47bf-f1fc-e23a72723448"
   },
   "outputs": [],
   "source": [
    "# First five items\n",
    "df.head()"
   ]
  },
  {
   "cell_type": "markdown",
   "metadata": {
    "colab_type": "text",
    "id": "qhYyM3iGRZ8W"
   },
   "source": [
    "These are the diferent features: \n",
    "* **pclass**: class of travel\n",
    "* **name**: full name of the passenger\n",
    "* **sex**: gender\n",
    "* **age**: numerical age\n",
    "* **sibsp**: # of siblings/spouse aboard\n",
    "* **parch**: number of parents/child aboard\n",
    "* **ticket**: ticket number\n",
    "* **fare**: cost of the ticket\n",
    "* **cabin**: location of room\n",
    "* **emarked**: port that the passenger embarked at (C - Cherbourg, S - Southampton, Q = Queenstown)\n",
    "* **survived**: survial metric (0 - died, 1 - survived)"
   ]
  },
  {
   "cell_type": "markdown",
   "metadata": {
    "colab_type": "text",
    "id": "NBx5VP8K_y6N"
   },
   "source": [
    "# Exploratory analysis"
   ]
  },
  {
   "cell_type": "code",
   "execution_count": null,
   "metadata": {
    "colab": {},
    "colab_type": "code",
    "id": "c4_qAEVI0lpe"
   },
   "outputs": [],
   "source": [
    "import matplotlib.pyplot as plt"
   ]
  },
  {
   "cell_type": "markdown",
   "metadata": {
    "colab_type": "text",
    "id": "z1Dn2ZTHWUKo"
   },
   "source": [
    "We can use `.describe()` to extract some standard details about our numerical features. "
   ]
  },
  {
   "cell_type": "code",
   "execution_count": null,
   "metadata": {
    "colab": {
     "base_uri": "https://localhost:8080/",
     "height": 300
    },
    "colab_type": "code",
    "id": "thR28yTmASRr",
    "outputId": "9012e949-3d48-468c-b098-3053a8849496"
   },
   "outputs": [],
   "source": [
    "# Describe features\n",
    "df.describe()"
   ]
  },
  {
   "cell_type": "code",
   "execution_count": null,
   "metadata": {
    "colab": {
     "base_uri": "https://localhost:8080/",
     "height": 280
    },
    "colab_type": "code",
    "id": "8KXH6dmb0iY6",
    "outputId": "41ae5fcc-d6e7-402b-df3e-cb9219c516a3"
   },
   "outputs": [],
   "source": [
    "# Correlation matrix\n",
    "plt.matshow(df.corr())\n",
    "continuous_features = df.describe().columns\n",
    "plt.xticks(range(len(continuous_features)), continuous_features, rotation='45')\n",
    "plt.yticks(range(len(continuous_features)), continuous_features, rotation='45')\n",
    "plt.colorbar()\n",
    "plt.show()"
   ]
  },
  {
   "cell_type": "markdown",
   "metadata": {
    "colab_type": "text",
    "id": "oRaXx2KeWgT3"
   },
   "source": [
    "We can also use `.hist()` to view the histrogram of values for each feature."
   ]
  },
  {
   "cell_type": "code",
   "execution_count": null,
   "metadata": {
    "colab": {
     "base_uri": "https://localhost:8080/",
     "height": 286
    },
    "colab_type": "code",
    "id": "Mn5HqS3XmzJs",
    "outputId": "8b60b7e3-0a3d-4359-9a33-42c2b6144b8a"
   },
   "outputs": [],
   "source": [
    "# Histograms\n",
    "df['age'].hist()"
   ]
  },
  {
   "cell_type": "code",
   "execution_count": null,
   "metadata": {
    "colab": {
     "base_uri": "https://localhost:8080/",
     "height": 35
    },
    "colab_type": "code",
    "id": "7illbHR1nLEF",
    "outputId": "b07418db-1e69-472a-86be-7985ef8876f4"
   },
   "outputs": [],
   "source": [
    "# Unique values\n",
    "df['embarked'].unique()"
   ]
  },
  {
   "cell_type": "markdown",
   "metadata": {
    "colab_type": "text",
    "id": "WPQ_JS0RXkRc"
   },
   "source": [
    "# Filtering"
   ]
  },
  {
   "cell_type": "code",
   "execution_count": null,
   "metadata": {
    "colab": {
     "base_uri": "https://localhost:8080/",
     "height": 121
    },
    "colab_type": "code",
    "id": "BG1IMeV_hrqV",
    "outputId": "82003b37-4dbc-47d6-fbb8-9800793f34f7"
   },
   "outputs": [],
   "source": [
    "# Selecting data by feature\n",
    "df['name'].head()"
   ]
  },
  {
   "cell_type": "code",
   "execution_count": null,
   "metadata": {
    "colab": {
     "base_uri": "https://localhost:8080/",
     "height": 198
    },
    "colab_type": "code",
    "id": "wPrRGLDtiZSp",
    "outputId": "f28612bb-03f1-42a2-c0fc-9358a58eae7d"
   },
   "outputs": [],
   "source": [
    "# Filtering\n",
    "df[df['sex']=='female'].head() # only the female data appear"
   ]
  },
  {
   "cell_type": "markdown",
   "metadata": {
    "colab_type": "text",
    "id": "7lYWUAcxXp0Q"
   },
   "source": [
    "# Sorting"
   ]
  },
  {
   "cell_type": "code",
   "execution_count": null,
   "metadata": {
    "colab": {
     "base_uri": "https://localhost:8080/",
     "height": 198
    },
    "colab_type": "code",
    "id": "FOuLeYIojMMH",
    "outputId": "3398b6f3-ab88-4b9d-f284-2d3043be3c6e"
   },
   "outputs": [],
   "source": [
    "# Sorting\n",
    "df.sort_values('age', ascending=False).head()"
   ]
  },
  {
   "cell_type": "markdown",
   "metadata": {
    "colab_type": "text",
    "id": "VWxbfIZnXrM4"
   },
   "source": [
    "# Grouping"
   ]
  },
  {
   "cell_type": "code",
   "execution_count": null,
   "metadata": {
    "colab": {
     "base_uri": "https://localhost:8080/",
     "height": 138
    },
    "colab_type": "code",
    "id": "v0TCbtSMjMO5",
    "outputId": "a972f5d3-349f-4481-a9d5-7dc9764fbeb0"
   },
   "outputs": [],
   "source": [
    "# Grouping\n",
    "survived_group = df.groupby('survived')\n",
    "survived_group.mean()"
   ]
  },
  {
   "cell_type": "markdown",
   "metadata": {
    "colab_type": "text",
    "id": "mmcNMYhnXsxC"
   },
   "source": [
    "# Indexing"
   ]
  },
  {
   "cell_type": "markdown",
   "metadata": {
    "colab_type": "text",
    "id": "-XJK5O95a5OF"
   },
   "source": [
    "We cna use `iloc` to get rows or columns at particuluar positions in the dataframe."
   ]
  },
  {
   "cell_type": "code",
   "execution_count": null,
   "metadata": {
    "colab": {
     "base_uri": "https://localhost:8080/",
     "height": 225
    },
    "colab_type": "code",
    "id": "34LmckWDhdSA",
    "outputId": "05093610-6001-432e-8201-9e914e5463d1"
   },
   "outputs": [],
   "source": [
    "# Selecting row 0\n",
    "df.iloc[0, :] "
   ]
  },
  {
   "cell_type": "code",
   "execution_count": null,
   "metadata": {
    "colab": {
     "base_uri": "https://localhost:8080/",
     "height": 35
    },
    "colab_type": "code",
    "id": "QrdXeuRdFkXB",
    "outputId": "e8d3cef7-7958-4208-c8c1-e595bae56f7f"
   },
   "outputs": [],
   "source": [
    "# Selecting a specific value\n",
    "df.iloc[0, 1]"
   ]
  },
  {
   "cell_type": "markdown",
   "metadata": {
    "colab_type": "text",
    "id": "uSezrq4vEFYh"
   },
   "source": [
    "# Preprocessing"
   ]
  },
  {
   "cell_type": "markdown",
   "metadata": {
    "colab_type": "text",
    "id": "F14RY0N7a_25"
   },
   "source": [
    "After exploring, we can clean and preprocess our dataset."
   ]
  },
  {
   "cell_type": "code",
   "execution_count": null,
   "metadata": {
    "colab": {
     "base_uri": "https://localhost:8080/",
     "height": 198
    },
    "colab_type": "code",
    "id": "EZ1pCKHIjMUY",
    "outputId": "38c60fb4-ae9b-4900-836c-3fd4c263a791"
   },
   "outputs": [],
   "source": [
    "# Rows with at least one NaN value\n",
    "df[pd.isnull(df).any(axis=1)].head()"
   ]
  },
  {
   "cell_type": "code",
   "execution_count": null,
   "metadata": {
    "colab": {
     "base_uri": "https://localhost:8080/",
     "height": 198
    },
    "colab_type": "code",
    "id": "zUaiFplEkmoB",
    "outputId": "607bf2fa-a591-4428-8b7c-0cd69edf3c39"
   },
   "outputs": [],
   "source": [
    "# Drop rows with Nan values\n",
    "df = df.dropna() # removes rows with any NaN values\n",
    "df = df.reset_index() # reset's row indexes in case any rows were dropped\n",
    "df.head()"
   ]
  },
  {
   "cell_type": "code",
   "execution_count": null,
   "metadata": {
    "colab": {
     "base_uri": "https://localhost:8080/",
     "height": 198
    },
    "colab_type": "code",
    "id": "ubujZv_8qG-d",
    "outputId": "8cbef6fe-9eea-442d-b168-32aa4d5010c7"
   },
   "outputs": [],
   "source": [
    "# Dropping multiple columns\n",
    "df = df.drop(['name', 'cabin', 'ticket'], axis=1) # we won't use text features for our initial basic models\n",
    "df.head()"
   ]
  },
  {
   "cell_type": "code",
   "execution_count": null,
   "metadata": {
    "colab": {
     "base_uri": "https://localhost:8080/",
     "height": 198
    },
    "colab_type": "code",
    "id": "8m117GcVnon9",
    "outputId": "df087bc0-2379-4c7b-a50b-9799136863ab"
   },
   "outputs": [],
   "source": [
    "# Map feature values\n",
    "df['sex'] = df['sex'].map( {'female': 0, 'male': 1} ).astype(int)\n",
    "df['embarked'] = df['embarked'].dropna().map( {'S':0, 'C':1, 'Q':2} ).astype(int)\n",
    "df.head()"
   ]
  },
  {
   "cell_type": "markdown",
   "metadata": {
    "colab_type": "text",
    "id": "ZaVqjpsCEtft"
   },
   "source": [
    "# Feature engineering"
   ]
  },
  {
   "cell_type": "markdown",
   "metadata": {
    "colab_type": "text",
    "id": "Dgb4InI0bcN9"
   },
   "source": [
    "We're now going to use feature engineering to create a column called `family_size`. We'll first define a function called `get_family_size` that will determine the family size using the number of parents and siblings. "
   ]
  },
  {
   "cell_type": "code",
   "execution_count": null,
   "metadata": {
    "colab": {},
    "colab_type": "code",
    "id": "_FPtk5tpqrDI"
   },
   "outputs": [],
   "source": [
    "# Lambda expressions to create new features\n",
    "def get_family_size(sibsp, parch):\n",
    "    family_size = sibsp + parch\n",
    "    return family_size"
   ]
  },
  {
   "cell_type": "markdown",
   "metadata": {
    "colab_type": "text",
    "id": "FCXPqemgbo3H"
   },
   "source": [
    "Once we define the function, we can use `lambda` to `apply` that function on each row (using the numbers of siblings and parents in each row to determine the family size for each row)."
   ]
  },
  {
   "cell_type": "code",
   "execution_count": null,
   "metadata": {
    "colab": {
     "base_uri": "https://localhost:8080/",
     "height": 198
    },
    "colab_type": "code",
    "id": "f_Xf97AjlM6s",
    "outputId": "988d2f94-f0e0-4f61-8394-c59031820aa2"
   },
   "outputs": [],
   "source": [
    "df[\"family_size\"] = df[[\"sibsp\", \"parch\"]].apply(lambda x: get_family_size(x[\"sibsp\"], x[\"parch\"]), axis=1)\n",
    "df.head()"
   ]
  },
  {
   "cell_type": "code",
   "execution_count": null,
   "metadata": {
    "colab": {
     "base_uri": "https://localhost:8080/",
     "height": 198
    },
    "colab_type": "code",
    "id": "JK3FqfjnpSNi",
    "outputId": "2e5427a0-cc28-4a4c-dac7-0c0506ba980c"
   },
   "outputs": [],
   "source": [
    "# Reorganize headers\n",
    "df = df[['pclass', 'sex', 'age', 'sibsp', 'parch', 'family_size', 'fare', 'embarked', 'survived']]\n",
    "df.head()"
   ]
  },
  {
   "cell_type": "markdown",
   "metadata": {
    "colab_type": "text",
    "id": "N_rwgfrFGTne"
   },
   "source": [
    "# Save data"
   ]
  },
  {
   "cell_type": "markdown",
   "metadata": {
    "colab_type": "text",
    "id": "OExbbyancIk4"
   },
   "source": [
    "Finally, let's save our preprocessed data into a new CSV file to use later."
   ]
  },
  {
   "cell_type": "code",
   "execution_count": null,
   "metadata": {
    "colab": {},
    "colab_type": "code",
    "id": "rNNxA7Vrp2fC"
   },
   "outputs": [],
   "source": [
    "# Saving dataframe to CSV\n",
    "df.to_csv('processed_titanic.csv', index=False)"
   ]
  },
  {
   "cell_type": "code",
   "execution_count": null,
   "metadata": {
    "colab": {
     "base_uri": "https://localhost:8080/",
     "height": 86
    },
    "colab_type": "code",
    "id": "gfc7Epp7sgqz",
    "outputId": "7ed78fb8-3778-4beb-8a65-d5c26fcf9a59"
   },
   "outputs": [],
   "source": [
    "# See the saved file\n",
    "!ls -l"
   ]
  },
  {
   "cell_type": "markdown",
   "metadata": {
    "colab_type": "text",
    "id": "AHb4byg1LUYS"
   },
   "source": [
    "# Additional resources"
   ]
  },
  {
   "cell_type": "markdown",
   "metadata": {
    "colab_type": "text",
    "id": "4J_w1KsClf7a"
   },
   "source": [
    "* **Pandas reference manual**: There's so much more we can do with Pandas and we'll see even more in later notebooks. But if you're curious, checkout the [Pandas user guide](https://pandas.pydata.org/pandas-docs/stable/user_guide/index.html) for more information. "
   ]
  }
 ],
 "metadata": {
  "colab": {
   "collapsed_sections": [],
   "name": "03_Pandas",
   "provenance": [],
   "toc_visible": true
  },
  "kernelspec": {
   "display_name": "Python 3",
   "language": "python",
   "name": "python3"
  },
  "language_info": {
   "codemirror_mode": {
    "name": "ipython",
    "version": 3
   },
   "file_extension": ".py",
   "mimetype": "text/x-python",
   "name": "python",
   "nbconvert_exporter": "python",
   "pygments_lexer": "ipython3",
   "version": "3.6.8"
  }
 },
 "nbformat": 4,
 "nbformat_minor": 1
}
